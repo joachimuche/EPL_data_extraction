{
 "cells": [
  {
   "cell_type": "code",
   "execution_count": 5,
   "metadata": {},
   "outputs": [],
   "source": [
    "import pandas as pd\n",
    "df2 = pd.read_csv('stat/local.csv')"
   ]
  },
  {
   "cell_type": "code",
   "execution_count": 6,
   "metadata": {},
   "outputs": [
    {
     "data": {
      "text/html": [
       "<div>\n",
       "<style scoped>\n",
       "    .dataframe tbody tr th:only-of-type {\n",
       "        vertical-align: middle;\n",
       "    }\n",
       "\n",
       "    .dataframe tbody tr th {\n",
       "        vertical-align: top;\n",
       "    }\n",
       "\n",
       "    .dataframe thead th {\n",
       "        text-align: right;\n",
       "    }\n",
       "</style>\n",
       "<table border=\"1\" class=\"dataframe\">\n",
       "  <thead>\n",
       "    <tr style=\"text-align: right;\">\n",
       "      <th></th>\n",
       "      <th>Firstname</th>\n",
       "      <th>Lastname</th>\n",
       "      <th>Age</th>\n",
       "      <th>PlaceOfBirth</th>\n",
       "      <th>Club</th>\n",
       "      <th>League</th>\n",
       "      <th>Appearances</th>\n",
       "    </tr>\n",
       "  </thead>\n",
       "  <tbody>\n",
       "    <tr>\n",
       "      <th>0</th>\n",
       "      <td>Jamie Richard</td>\n",
       "      <td>Vardy</td>\n",
       "      <td>36</td>\n",
       "      <td>Sheffield</td>\n",
       "      <td>Leicester</td>\n",
       "      <td>Premier League</td>\n",
       "      <td>1</td>\n",
       "    </tr>\n",
       "    <tr>\n",
       "      <th>1</th>\n",
       "      <td>Jamiu Richardie</td>\n",
       "      <td>Wardy</td>\n",
       "      <td>28</td>\n",
       "      <td>London</td>\n",
       "      <td>Leicester</td>\n",
       "      <td>Premier League</td>\n",
       "      <td>1</td>\n",
       "    </tr>\n",
       "    <tr>\n",
       "      <th>2</th>\n",
       "      <td>Jamiere Richardiho</td>\n",
       "      <td>Vardoy</td>\n",
       "      <td>26</td>\n",
       "      <td>Sheffield</td>\n",
       "      <td>Leicester</td>\n",
       "      <td>Premier League</td>\n",
       "      <td>1</td>\n",
       "    </tr>\n",
       "    <tr>\n",
       "      <th>3</th>\n",
       "      <td>Uner Jamo</td>\n",
       "      <td>Kai</td>\n",
       "      <td>30</td>\n",
       "      <td>Sheffield</td>\n",
       "      <td>Leicester</td>\n",
       "      <td>Premier League</td>\n",
       "      <td>1</td>\n",
       "    </tr>\n",
       "    <tr>\n",
       "      <th>4</th>\n",
       "      <td>Olabisi Jane</td>\n",
       "      <td>Uche</td>\n",
       "      <td>37</td>\n",
       "      <td>Sheffield</td>\n",
       "      <td>Leicester</td>\n",
       "      <td>Premier League</td>\n",
       "      <td>1</td>\n",
       "    </tr>\n",
       "  </tbody>\n",
       "</table>\n",
       "</div>"
      ],
      "text/plain": [
       "            Firstname Lastname  Age PlaceOfBirth       Club          League  \\\n",
       "0       Jamie Richard    Vardy   36    Sheffield  Leicester  Premier League   \n",
       "1     Jamiu Richardie    Wardy   28       London  Leicester  Premier League   \n",
       "2  Jamiere Richardiho   Vardoy   26    Sheffield  Leicester  Premier League   \n",
       "3           Uner Jamo      Kai   30    Sheffield  Leicester  Premier League   \n",
       "4        Olabisi Jane     Uche   37    Sheffield  Leicester  Premier League   \n",
       "\n",
       "   Appearances  \n",
       "0            1  \n",
       "1            1  \n",
       "2            1  \n",
       "3            1  \n",
       "4            1  "
      ]
     },
     "execution_count": 6,
     "metadata": {},
     "output_type": "execute_result"
    }
   ],
   "source": [
    "df2.head()"
   ]
  },
  {
   "cell_type": "code",
   "execution_count": null,
   "metadata": {},
   "outputs": [],
   "source": []
  }
 ],
 "metadata": {
  "kernelspec": {
   "display_name": "Python 3",
   "language": "python",
   "name": "python3"
  },
  "language_info": {
   "codemirror_mode": {
    "name": "ipython",
    "version": 3
   },
   "file_extension": ".py",
   "mimetype": "text/x-python",
   "name": "python",
   "nbconvert_exporter": "python",
   "pygments_lexer": "ipython3",
   "version": "3.7.3"
  }
 },
 "nbformat": 4,
 "nbformat_minor": 2
}
